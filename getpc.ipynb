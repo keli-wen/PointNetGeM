{
 "cells": [
  {
   "cell_type": "code",
   "execution_count": 1,
   "id": "f8738d8a-65a3-4169-8e94-008e697fb0c1",
   "metadata": {},
   "outputs": [],
   "source": [
    "import torch\n",
    "import numpy as np"
   ]
  },
  {
   "cell_type": "code",
   "execution_count": null,
   "id": "6fe4a9f6-3615-4be3-bdbf-218e2bfd3a8d",
   "metadata": {},
   "outputs": [],
   "source": [
    "\n",
    "model = model_factory(params)\n",
    "model.load_state_dict(torch.load(model_pathname + '_final.pth'))"
   ]
  }
 ],
 "metadata": {
  "kernelspec": {
   "display_name": "Python 3 (ipykernel)",
   "language": "python",
   "name": "python3"
  },
  "language_info": {
   "codemirror_mode": {
    "name": "ipython",
    "version": 3
   },
   "file_extension": ".py",
   "mimetype": "text/x-python",
   "name": "python",
   "nbconvert_exporter": "python",
   "pygments_lexer": "ipython3",
   "version": "3.8.10"
  }
 },
 "nbformat": 4,
 "nbformat_minor": 5
}
